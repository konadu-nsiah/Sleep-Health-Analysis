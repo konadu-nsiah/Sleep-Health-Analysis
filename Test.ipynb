{
 "cells": [
  {
   "cell_type": "code",
   "execution_count": 4,
   "metadata": {},
   "outputs": [
    {
     "name": "stdout",
     "output_type": "stream",
     "text": [
      "1\n",
      "4\n",
      "9\n",
      "16\n",
      "25\n",
      "36\n",
      "49\n",
      "64\n",
      "81\n",
      "0\n"
     ]
    }
   ],
   "source": [
    "x= [1,2,3,4,5,6,7,8,9,0]\n",
    "for a in x:\n",
    "    new = a**2\n",
    "    print(new)"
   ]
  },
  {
   "cell_type": "code",
   "execution_count": 14,
   "metadata": {},
   "outputs": [
    {
     "name": "stdout",
     "output_type": "stream",
     "text": [
      "1\n",
      "2\n",
      "6\n",
      "24\n",
      "120\n"
     ]
    }
   ],
   "source": [
    "fact = 1\n",
    "for i in range(1, n+1):\n",
    "    fact *= i\n",
    "    print(fact)"
   ]
  },
  {
   "cell_type": "code",
   "execution_count": 18,
   "metadata": {},
   "outputs": [
    {
     "name": "stdout",
     "output_type": "stream",
     "text": [
      " *\n",
      " ***\n",
      " *****\n",
      " *******\n",
      " *********\n"
     ]
    }
   ],
   "source": [
    "for i in range(1, n+1):\n",
    "    space = '' *(n-i)\n",
    "    stars= '*' * (2*i - 1)\n",
    "    print(space, stars)"
   ]
  },
  {
   "cell_type": "code",
   "execution_count": 24,
   "metadata": {},
   "outputs": [
    {
     "name": "stdout",
     "output_type": "stream",
     "text": [
      "* \n",
      "* * * \n",
      "* * * * * \n",
      "* * * * * * * \n",
      "* * * * * * * * * \n",
      "* * * * * * * * * * * \n"
     ]
    }
   ],
   "source": [
    "n =6\n",
    "for i in range(1, n+1):\n",
    "    for j in range(2*i-1):\n",
    "        print('*', end=' ')\n",
    "    print()"
   ]
  },
  {
   "cell_type": "code",
   "execution_count": 13,
   "metadata": {},
   "outputs": [
    {
     "name": "stdout",
     "output_type": "stream",
     "text": [
      "***********\n",
      "*********\n",
      "*******\n",
      "*****\n",
      "***\n",
      "*\n"
     ]
    }
   ],
   "source": [
    "n = 6\n",
    "for i in range(n, 0, -1):\n",
    "    for j in range(n-i):\n",
    "        print('',end='')\n",
    "    for j in range(2*i - 1):\n",
    "        print('*',end='')\n",
    "    print()"
   ]
  },
  {
   "cell_type": "code",
   "execution_count": null,
   "metadata": {},
   "outputs": [],
   "source": [
    "def answer(n):\n",
    "    binary = bin(n)\n",
    "    \n",
    "    max_gab =0\n",
    "    current_gab = 0\n",
    "    in_gab= False\n",
    "    \n",
    "    for i in binary:\n",
    "        if i == '1':\n",
    "            if in_gab:\n",
    "                max = max(max_gab,current_gab)\n",
    "                current_gab = 0\n",
    "            else:\n",
    "                in_gab=True\n",
    "        elif in_gab:\n",
    "            current_gab +=1\n",
    "\n",
    "    return max_gab\n"
   ]
  },
  {
   "cell_type": "code",
   "execution_count": 14,
   "metadata": {},
   "outputs": [
    {
     "name": "stdout",
     "output_type": "stream",
     "text": [
      "5\n",
      "0\n"
     ]
    }
   ],
   "source": [
    "def solution(N):\n",
    "    # Convert the integer to binary representation\n",
    "    binary_str = bin(N)[2:]\n",
    "\n",
    "    max_gap = 0\n",
    "    current_gap = 0\n",
    "    in_gap = False\n",
    "\n",
    "    for bit in binary_str:\n",
    "        if bit == '1':\n",
    "            if in_gap:\n",
    "                max_gap = max(max_gap, current_gap)\n",
    "                current_gap = 0\n",
    "            else:\n",
    "                in_gap = True\n",
    "        elif in_gap:\n",
    "            current_gap += 1\n",
    "\n",
    "    return max_gap\n",
    "\n",
    "# Test cases\n",
    "print(solution(1041))  # Output: 5\n",
    "print(solution(32))    # Output: 0"
   ]
  },
  {
   "cell_type": "code",
   "execution_count": 15,
   "metadata": {},
   "outputs": [],
   "source": [
    "def solution(A, K):\n",
    "    \"\"\"\n",
    "    Rotate the array A to the right K times.\n",
    "\n",
    "    Parameters:\n",
    "    - A: List of integers.\n",
    "    - K: Number of rotations.\n",
    "\n",
    "    Returns:\n",
    "    - Rotated array.\n",
    "    \"\"\"\n",
    "    if not A or K == 0:\n",
    "        return A\n",
    "\n",
    "    N = len(A)\n",
    "    K = K % N  # Handle cases where K is greater than the length of the array\n",
    "\n",
    "    # Rotate the array to the right by K positions\n",
    "    rotated_array = A[-K:] + A[:-K]\n",
    "\n",
    "    return rotated_array\n",
    "\n",
    "# Example usage:\n",
    "A_example = [3, 8, 9, 7, 6]\n",
    "K_example = 3\n",
    "\n",
    "rotated_result = solution(A_example, K_example)\n",
    "print(rotated_result)"
   ]
  },
  {
   "cell_type": "code",
   "execution_count": 23,
   "metadata": {},
   "outputs": [
    {
     "name": "stdout",
     "output_type": "stream",
     "text": [
      "[4, 6]\n"
     ]
    }
   ],
   "source": [
    "n = [1,1,2,3,2,4,3,5,6,5]\n",
    "def solution(n):\n",
    "    unique_element=[i for i in n if n.count(i)==1]\n",
    "    return unique_element   \n",
    "        \n",
    "    return None\n",
    "print(solution(n))"
   ]
  },
  {
   "cell_type": "code",
   "execution_count": null,
   "metadata": {},
   "outputs": [],
   "source": [
    "n = [1, 1, 2, 3, 2, 4, 3, 5, 6, 5]\n",
    "\n",
    "def solution(n):\n",
    "    for i in n:\n",
    "        if n.count(i) == 1:\n",
    "            return i\n",
    "    \n",
    "    return None  # Return None if no element appears exactly once\n",
    "\n",
    "print(solution(n))"
   ]
  },
  {
   "cell_type": "code",
   "execution_count": 26,
   "metadata": {},
   "outputs": [
    {
     "name": "stdout",
     "output_type": "stream",
     "text": [
      "7\n"
     ]
    }
   ],
   "source": [
    "def solution(n):\n",
    "    count_map ={}\n",
    "    # count occurance\n",
    "    for value in n:\n",
    "        count_map[value]=count_map.get(value,0)+1\n",
    "    # find the unpaired\n",
    "    for key, value in count_map.items():\n",
    "        if value % 2 != 0:\n",
    "            return key\n",
    "    raise ValueError ('Invalid input')\n",
    "array =[9,3,9,9,3,7,9]\n",
    "result = solution(array)\n",
    "print(result)\n"
   ]
  },
  {
   "cell_type": "code",
   "execution_count": 30,
   "metadata": {},
   "outputs": [
    {
     "name": "stdout",
     "output_type": "stream",
     "text": [
      "3\n"
     ]
    }
   ],
   "source": [
    "def solution(x,y,z):\n",
    "    distance_to_cover=y-x\n",
    "    jumps_required = distance_to_cover// z\n",
    "    if distance_to_cover % z != 0:\n",
    "        jumps_required +=1\n",
    "    return jumps_required\n",
    "    \n",
    "result= solution(10,85,30)\n",
    "print(result)"
   ]
  },
  {
   "cell_type": "code",
   "execution_count": 29,
   "metadata": {},
   "outputs": [
    {
     "name": "stdout",
     "output_type": "stream",
     "text": [
      "3\n"
     ]
    }
   ],
   "source": [
    "def solution(X, Y, D):\n",
    "    distance_to_cover = Y - X\n",
    "    jumps_required = distance_to_cover // D\n",
    "\n",
    "    # If there is a remaining distance, an additional jump is needed\n",
    "    if distance_to_cover % D != 0:\n",
    "        jumps_required += 1\n",
    "\n",
    "    return jumps_required\n",
    "\n",
    "# Example usage\n",
    "X = 10\n",
    "Y = 85\n",
    "D = 30\n",
    "result = solution(X, Y, D)\n",
    "print(result)"
   ]
  },
  {
   "cell_type": "code",
   "execution_count": 36,
   "metadata": {},
   "outputs": [
    {
     "name": "stdout",
     "output_type": "stream",
     "text": [
      "4\n"
     ]
    }
   ],
   "source": [
    "def solution(A):\n",
    "    n = len(A) + 1\n",
    "    expected_sum = (n * (n + 1)) // 2\n",
    "    actual_sum = sum(A)\n",
    "    missing_element = expected_sum - actual_sum\n",
    "    return missing_element\n",
    "\n",
    "# Example usage:\n",
    "A = [2, 3, 1, 5]\n",
    "result = solution(A)\n",
    "print(result)"
   ]
  },
  {
   "cell_type": "code",
   "execution_count": 38,
   "metadata": {},
   "outputs": [
    {
     "name": "stdout",
     "output_type": "stream",
     "text": [
      "5\n"
     ]
    }
   ],
   "source": [
    "def solution(A):\n",
    "    eastward_cars = 0\n",
    "    passing_pairs = 0\n",
    "\n",
    "    for car in A:\n",
    "        if car == 0:\n",
    "            eastward_cars += 1\n",
    "        else:\n",
    "            passing_pairs += eastward_cars\n",
    "            if passing_pairs > 1000000000:\n",
    "                return -1\n",
    "\n",
    "    return passing_pairs\n",
    "\n",
    "# Example usage:\n",
    "A = [0, 1, 0, 1, 1]\n",
    "result = solution(A)\n",
    "print(result)"
   ]
  },
  {
   "cell_type": "code",
   "execution_count": 39,
   "metadata": {},
   "outputs": [
    {
     "name": "stdout",
     "output_type": "stream",
     "text": [
      "1\n",
      "0\n"
     ]
    }
   ],
   "source": [
    "\n",
    "def solution(A):\n",
    "    if not A:\n",
    "        return 0\n",
    "    new_set = set(range(1, len(A)+1))\n",
    "    for element in A:\n",
    "        new_set.discard(element)\n",
    "    if not new_set:\n",
    "        return 1\n",
    "    else:\n",
    "        return 0\n",
    "    \n",
    "# Example usage:\n",
    "A1 = [4, 1, 3, 2]\n",
    "result1 = solution(A1)\n",
    "print(result1)  # Output: 1\n",
    "\n",
    "A2 = [4, 1, 3]\n",
    "result2 = solution(A2)\n",
    "print(result2)  # Output: 0\n"
   ]
  }
 ],
 "metadata": {
  "kernelspec": {
   "display_name": "base",
   "language": "python",
   "name": "python3"
  },
  "language_info": {
   "codemirror_mode": {
    "name": "ipython",
    "version": 3
   },
   "file_extension": ".py",
   "mimetype": "text/x-python",
   "name": "python",
   "nbconvert_exporter": "python",
   "pygments_lexer": "ipython3",
   "version": "3.10.9"
  }
 },
 "nbformat": 4,
 "nbformat_minor": 2
}
